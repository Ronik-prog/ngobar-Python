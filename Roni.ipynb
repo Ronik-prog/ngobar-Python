{
  "nbformat": 4,
  "nbformat_minor": 0,
  "metadata": {
    "colab": {
      "provenance": [],
      "toc_visible": true,
      "authorship_tag": "ABX9TyN/B++LriAhEoEcwOE8S8Y/",
      "include_colab_link": true
    },
    "kernelspec": {
      "name": "python3",
      "display_name": "Python 3"
    },
    "language_info": {
      "name": "python"
    }
  },
  "cells": [
    {
      "cell_type": "markdown",
      "metadata": {
        "id": "view-in-github",
        "colab_type": "text"
      },
      "source": [
        "<a href=\"https://colab.research.google.com/github/Ronik-prog/ngobar-Python/blob/main/Roni.ipynb\" target=\"_parent\"><img src=\"https://colab.research.google.com/assets/colab-badge.svg\" alt=\"Open In Colab\"/></a>"
      ]
    },
    {
      "cell_type": "markdown",
      "source": [
        "# Pertemuan 1"
      ],
      "metadata": {
        "id": "kqKvhHCvdSwD"
      }
    },
    {
      "cell_type": "markdown",
      "source": [
        "Soal No 1\n",
        "\n",
        "Kalkulator Sederhana\n",
        "\n",
        "Buatlah program yang meminta pengguna untuk memasukkan dua angka dan operator aritmatika (+, -, *, /). Program kemudian menghitung hasil operasi berdasarkan input pengguna dan menampilkannya. Gunakan percabangan if-elif-else untuk menentukan operator yang digunakan"
      ],
      "metadata": {
        "id": "7zyt-II_kct0"
      }
    },
    {
      "cell_type": "code",
      "source": [
        "def kalkulator_sederhana():\n",
        "  \"\"\"Fungsi untuk menghitung operasi aritmatika sederhana.\"\"\"\n",
        "\n",
        "  angka1 = float(input(\"Masukkan angka pertama: \"))\n",
        "  angka2 = float(input(\"Masukkan angka kedua: \"))\n",
        "  operator = input(\"Masukkan operator (+, -, *, /): \")\n",
        "\n",
        "  if operator == \"+\":\n",
        "    hasil = angka1 + angka2\n",
        "  elif operator == \"-\":\n",
        "    hasil = angka1 - angka2\n",
        "1\n",
        "    print(\"Hasil:\", hasil)\n",
        "\n",
        "if get_ipython() is not None:\n",
        "    kalkulator_sederhana()\n",
        "else:\n",
        "    if __name__ == \"__main__\":\n",
        "        kalkulator_sederhana()\n",
        "\n",
        "print(\"Terima kasih telah menggunakan kalkulator ini!\")"
      ],
      "metadata": {
        "colab": {
          "base_uri": "https://localhost:8080/"
        },
        "id": "0E33Tap5kcL_",
        "outputId": "37002b97-7df0-43ec-f6ee-66c81129e4fc"
      },
      "execution_count": 2,
      "outputs": [
        {
          "output_type": "stream",
          "name": "stdout",
          "text": [
            "Masukkan angka pertama: 12\n",
            "Masukkan angka kedua: 22\n",
            "Masukkan operator (+, -, *, /): +\n",
            "Hasil: 34.0\n",
            "Terima kasih telah menggunakan kalkulator ini!\n"
          ]
        }
      ]
    },
    {
      "cell_type": "markdown",
      "source": [
        "Soal No 2\n",
        "\n",
        "Menampilkan Deret Fibonacci\n",
        "\n",
        "Buatlah program yang menampilkan deret Fibonacci hingga batas tertentu yang ditentukan oleh pengguna.\n",
        "Deret Fibonacci dimulai dengan 0 dan 1, dan setiap angka berikutnya adalah jumlah dari dua angka sebelumnya (0, 1, 1, 2, 3, 5, 8, ...).\n",
        "Gunakan perulangan for atau while untuk menghasilkan deret."
      ],
      "metadata": {
        "id": "lfVYXBEnlefK"
      }
    },
    {
      "cell_type": "code",
      "source": [
        "def deret_fibonacci(batas):\n",
        "  \"\"\"Fungsi untuk menampilkan deret Fibonacci hingga batas tertentu.\n",
        "\n",
        "  Args:\n",
        "    batas: Batas maksimal nilai dalam deret Fibonacci.\n",
        "  \"\"\"\n",
        "\n",
        "  a, b = 0, 1\n",
        "  print(a)\n",
        "  print(b)\n",
        "\n",
        "  while b < batas:\n",
        "    c = a + b\n",
        "    a = b\n",
        "    b = c\n",
        "    print(c)\n",
        "\n",
        "if __name__ == \"__main__\":\n",
        "  batas = int(input(\"Masukkan batas deret Fibonacci: \"))\n",
        "  deret_fibonacci(batas)"
      ],
      "metadata": {
        "id": "ODDZ3NAQlfXR"
      },
      "execution_count": null,
      "outputs": []
    },
    {
      "cell_type": "markdown",
      "source": [
        "Soal No 3\n",
        "\n",
        "Mencari Nilai Maksimum dan Minimum dalam List\n",
        "\n",
        "Buatlah program yang meminta pengguna untuk memasukkan serangkaian angka dan menyimpannya dalam sebuah list.\n",
        "Program kemudian mencari nilai maksimum dan minimum dalam list tersebut dan menampilkannya.\n",
        "Gunakan fungsi max() dan min() untuk mencari nilai maksimum dan minimum."
      ],
      "metadata": {
        "id": "L22_gCV0lvKb"
      }
    },
    {
      "cell_type": "code",
      "source": [
        "def cari_nilai_ekstrem():\n",
        "  \"\"\"Fungsi untuk mencari nilai maksimum dan minimum dalam sebuah list.\"\"\"\n",
        "\n",
        "  angka = []\n",
        "  while True:\n",
        "    input_str = input(\"Masukkan angka (ketik 'stop' untuk berhenti): \")\n",
        "    if input_str.lower() == 'stop':\n",
        "      break\n",
        "    try:\n",
        "      bilangan = int(input_str)\n",
        "      angka.append(bilangan)\n",
        "    except ValueError:\n",
        "      print(\"Input tidak valid. Harap masukkan angka atau 'stop'.\")\n",
        "\n",
        "  if angka:\n",
        "    nilai_maks = max(angka)\n",
        "    nilai_min = min(angka)\n",
        "    print(\"Nilai maksimum:\", nilai_maks)\n",
        "    print(\"Nilai minimum:\", nilai_min)\n",
        "  else:\n",
        "    print(\"List kosong. Tidak ada nilai untuk dicari.\")\n",
        "\n",
        "if __name__ == \"__main__\":\n",
        "  cari_nilai_ekstrem()"
      ],
      "metadata": {
        "id": "I9Qg0XzeluoK"
      },
      "execution_count": null,
      "outputs": []
    },
    {
      "cell_type": "markdown",
      "source": [
        "# Pertemuan 2"
      ],
      "metadata": {
        "id": "4TX3HFBCkLUJ"
      }
    },
    {
      "cell_type": "markdown",
      "source": [
        "Soal 1\n",
        "\n",
        "Buatlah sebuah fungsi yang menerima dua angka sebagai parameter, lalu mengembalikan hasil perkalian kedua angka tersebut. Kemudian, panggil fungsi tersebut dengan dua angka yang berbeda dan cetak hasilnya."
      ],
      "metadata": {
        "id": "9YtvAhr5mOLJ"
      }
    },
    {
      "cell_type": "code",
      "source": [
        "def perkalian (a,b):\n",
        "    return a * b\n",
        "hasil = perkalian (6,7)\n",
        "print(f\"Hasil 6 x 7 adalah:\", hasil)"
      ],
      "metadata": {
        "colab": {
          "base_uri": "https://localhost:8080/"
        },
        "id": "RUYo5gMSmNs0",
        "outputId": "3437b709-acc8-447a-b098-396eea2dba87"
      },
      "execution_count": 3,
      "outputs": [
        {
          "output_type": "stream",
          "name": "stdout",
          "text": [
            "Hasil 6 x 7 adalah: 42\n"
          ]
        }
      ]
    },
    {
      "cell_type": "markdown",
      "source": [
        "Soal 2\n",
        "\n",
        "Buatlah sebuah dekorator yang akan menambahkan output \"Fungsi telah dipanggil\" sebelum fungsi yang di dekorasi dijalankan dan output \"Fungsi telah selesai dijalankan\" setelah fungsi yang didekorasi selesai dijalankan. Kemudian buat sebuah fungsi untuk menampilkan nama dan dekorasi fungsi tersebut."
      ],
      "metadata": {
        "id": "dEZrqjepoQku"
      }
    },
    {
      "cell_type": "code",
      "source": [
        "def panggil_nama(func):\n",
        "    def wrapper(*args, **kwargs):\n",
        "        print(\"Fungsi telah dipanggil\")\n",
        "        result = func(*args, **kwargs)\n",
        "        print(\"Fungsi telah selesai dijalankan\")\n",
        "        return result\n",
        "    return wrapper\n",
        "\n",
        "# Fungsi untuk menampilkan nama (contoh fungsi sederhana)\n",
        "@panggil_nama\n",
        "def tampilkan_nama(nama):\n",
        "    print(f\"Nama: {nama}\")\n",
        "\n",
        "# Contoh pemanggilan fungsi\n",
        "tampilkan_nama(\"Kamal\")\n"
      ],
      "metadata": {
        "colab": {
          "base_uri": "https://localhost:8080/"
        },
        "id": "1MfEjLG-oQJY",
        "outputId": "b5c0ca9b-7fdb-4802-97a3-22c690997278"
      },
      "execution_count": 4,
      "outputs": [
        {
          "output_type": "stream",
          "name": "stdout",
          "text": [
            "Fungsi telah dipanggil\n",
            "Nama: Kamal\n",
            "Fungsi telah selesai dijalankan\n"
          ]
        }
      ]
    },
    {
      "cell_type": "markdown",
      "source": [
        "Soal 3\n",
        "\n",
        "Buatlah sebuah fungsi untuk menghitung luas persegi panjang. Fungsi tersebut memiliki parameter panjang dan lebar, dimana parameter lebar memiliki nilai default 10. Panggil fungsi tersebut dengan hanya memberikan parameter panjang, lalu panggil kembali dengan memberikan kedua parameter."
      ],
      "metadata": {
        "id": "Uwf79H4eoPnA"
      }
    },
    {
      "cell_type": "code",
      "source": [
        "# Fungsi untuk menghitung luas persegi panjang\n",
        "def hitung_luas_persegi_panjang(panjang, lebar=10):\n",
        "    return panjang * lebar\n",
        "\n",
        "# Meminta input dari pengguna untuk panjang\n",
        "panjang = float(input(\"Masukkan panjang: \"))\n",
        "\n",
        "# Memanggil fungsi dengan hanya memberikan parameter panjang\n",
        "hasil1 = hitung_luas_persegi_panjang(panjang)\n",
        "print(f\"Luas dengan panjang saja (lebar default 10): {hasil1}\")\n",
        "\n",
        "# Meminta input dari pengguna untuk lebar\n",
        "lebar = float(input(\"Masukkan lebar: \"))\n",
        "\n",
        "# Memanggil fungsi dengan memberikan kedua parameter\n",
        "hasil2 = hitung_luas_persegi_panjang(panjang, lebar)\n",
        "print(f\"Luas dengan panjang dan lebar: {hasil2}\")\n",
        "\n"
      ],
      "metadata": {
        "colab": {
          "base_uri": "https://localhost:8080/"
        },
        "id": "D7LzAKbnoPOC",
        "outputId": "0100969a-ce90-48a4-f4c1-5047fa1ca844"
      },
      "execution_count": 5,
      "outputs": [
        {
          "output_type": "stream",
          "name": "stdout",
          "text": [
            "Masukkan panjang: 80\n",
            "Luas dengan panjang saja (lebar default 10): 800.0\n",
            "Masukkan lebar: 30\n",
            "Luas dengan panjang dan lebar: 2400.0\n"
          ]
        }
      ]
    },
    {
      "cell_type": "markdown",
      "source": [
        "# Pertemuan 3"
      ],
      "metadata": {
        "id": "258RfJw0kL20"
      }
    },
    {
      "cell_type": "markdown",
      "source": [
        "**Soal No 1**\n",
        "\n",
        "Manipulasi String dengan Slicing\n",
        "\n",
        "kalimat = \"Hari Ini Adalah Hari Ketiga Saya Mengikuti Kegiatan Ngobar\"\n",
        "\n",
        "\n",
        "\n",
        "*   Ambil dan tampilkan 6 karakter pertama dari string tersebut.\n",
        "*   Ambil dan tampilkan 5 karakter terakhir dari string tersebut.\n",
        "*   Ambil dan tampilkan kata \"Ketiga\" dari string tersebut.\n",
        "*   Tampilkan string tersebut dengan urutan terbalik."
      ],
      "metadata": {
        "id": "__qk99C-pcf1"
      }
    },
    {
      "cell_type": "code",
      "source": [
        "kalimat = \"Hari Ini Adalah Hari Ketiga Saya Mengikuti Kegiatan Ngobar\"\n",
        "\n",
        "# Ambil dan tampilkan 6 karakter pertama\n",
        "enam_karakter_pertama = kalimat[:6]\n",
        "print(\"Enam karakter pertama:\", enam_karakter_pertama)\n",
        "\n",
        "# Ambil dan tampilkan 5 karakter terakhir\n",
        "lima_karakter_terakhir = kalimat[-5:]\n",
        "print(\"Lima karakter terakhir:\", lima_karakter_terakhir)\n",
        "\n",
        "# Ambil dan tampilkan kata \"Ketiga\"\n",
        "kata_ketiga = kalimat[23:29]\n",
        "print(\"Kata 'Ketiga':\", kata_ketiga)\n",
        "\n",
        "# Tampilkan string dengan urutan terbalik\n",
        "kalimat_terbalik = kalimat[::-1]\n",
        "print(\"Kalimat terbalik:\", kalimat_terbalik)"
      ],
      "metadata": {
        "colab": {
          "base_uri": "https://localhost:8080/"
        },
        "id": "5VrM77BXpcK9",
        "outputId": "bf5bdc9e-85c5-497d-96e0-313007b476d3"
      },
      "execution_count": 6,
      "outputs": [
        {
          "output_type": "stream",
          "name": "stdout",
          "text": [
            "Enam karakter pertama: Hari I\n",
            "Lima karakter terakhir: gobar\n",
            "Kata 'Ketiga': tiga S\n",
            "Kalimat terbalik: rabogN nataigeK itukigneM ayaS agiteK iraH haladA inI iraH\n"
          ]
        }
      ]
    },
    {
      "cell_type": "markdown",
      "source": [
        "**Soal No 2**\n",
        "\n",
        "Concatenation String\n",
        "\n",
        "Buatlah 3 Variabel String (Kalimatnya Terserah) Lalu Kerjakan:\n",
        "\n",
        "\n",
        "\n",
        "*   Gabungkan ketiga Variabel menggunakan operator + dan tampilkan hasilnya.\n",
        "*   Gabungkan ketiga Variabel menggunakan f-string dan tampilkan hasilnya.\n",
        "*   Gabungkan ketiga Variabel menggunakan f-string dan tampilkan hasilnya.\n",
        "*   Gabungkan ketiga kata di atas menggunakan method .join() dan tampilkan hasilnya."
      ],
      "metadata": {
        "id": "5-NJ9tdLTUo_"
      }
    },
    {
      "cell_type": "code",
      "source": [
        "string1 = \"Halo\"\n",
        "string2 = \"Dunia\"\n",
        "string3 = \"Python\"\n",
        "\n",
        "# Menggabungkan dengan operator +\n",
        "gabungan_plus = string1 + \" \" + string2 + \" \" + string3\n",
        "print(\"Menggunakan operator +:\", gabungan_plus)\n",
        "\n",
        "# Menggabungkan dengan f-string\n",
        "gabungan_fstring = f\"{string1} {string2} {string3}\"\n",
        "print(\"Menggunakan f-string:\", gabungan_fstring)\n",
        "\n",
        "# Menggabungkan dengan .join()\n",
        "gabungan_join = \" \".join([string1, string2, string3])\n",
        "print(\"Menggunakan .join():\", gabungan_join)"
      ],
      "metadata": {
        "colab": {
          "base_uri": "https://localhost:8080/"
        },
        "id": "pmYB1tVlpCmx",
        "outputId": "966e22c5-b691-4be8-dfdb-cc484262baf4"
      },
      "execution_count": 7,
      "outputs": [
        {
          "output_type": "stream",
          "name": "stdout",
          "text": [
            "Menggunakan operator +: Halo Dunia Python\n",
            "Menggunakan f-string: Halo Dunia Python\n",
            "Menggunakan .join(): Halo Dunia Python\n"
          ]
        }
      ]
    },
    {
      "cell_type": "markdown",
      "source": [],
      "metadata": {
        "id": "kmMrIUQ6qXmv"
      }
    },
    {
      "cell_type": "markdown",
      "source": [
        "**Soal No 3**\n",
        "\n",
        "Menghitung Jumlah Karakter dan Kata\n",
        "\n",
        "tex_soal=\"aku adalah seorang kapten dari sebuah tim sepak bola liga 3 liga belgia\"\n",
        "\n",
        "yang harus dilakukan:\n",
        "\n",
        "*  Hitung dan tampilkan jumlah karakter dalam string\n",
        "tersebut.\n",
        "*  Hitung dan tampilkan jumlah kata dalam string tersebut."
      ],
      "metadata": {
        "id": "GPvg1EKNpxlj"
      }
    },
    {
      "cell_type": "code",
      "source": [
        "tex_soal = \"aku adalah seorang kapten dari sebuah tim sepak bola liga 3 liga belgia\"\n",
        "\n",
        "# Menghitung jumlah karakter\n",
        "jumlah_karakter = len(tex_soal)\n",
        "print(\"Jumlah karakter:\", jumlah_karakter)\n",
        "\n",
        "# Menghitung jumlah kata\n",
        "kata = tex_soal.split()\n",
        "jumlah_kata = len(kata)\n",
        "print(\"Jumlah kata:\", jumlah_kata)"
      ],
      "metadata": {
        "colab": {
          "base_uri": "https://localhost:8080/"
        },
        "id": "RB5HA94KpEQo",
        "outputId": "fc0487f9-98c4-4887-bfc8-8e7584a6b6ba"
      },
      "execution_count": 8,
      "outputs": [
        {
          "output_type": "stream",
          "name": "stdout",
          "text": [
            "Jumlah karakter: 71\n",
            "Jumlah kata: 13\n"
          ]
        }
      ]
    },
    {
      "cell_type": "markdown",
      "source": [
        "**Soal No 4**\n",
        "\n",
        "Hitunglah nilai rata-rata, nilai minimum, dan nilai maksimum dari array NumPy berikut:\n",
        "\n",
        "import numpy as np\n",
        "\n",
        "arr = np.array([1, 5, 2, 9, 7, 3])\n",
        "\n",
        "Yang Harus Dilakukan\n",
        "\n",
        "\n",
        "*   Import library NumPy dan buat array seperti yang ditunjukkan di atas.\n",
        "\n",
        "*   Gunakan fungsi-fungsi NumPy yang sesuai untuk menghitung nilai rata-rata (mean), nilai minimum (min), dan nilai maksimum (max) dari array tersebut.\n",
        "*   Tampilkan hasil perhitungan tersebut. Petunjuk:"
      ],
      "metadata": {
        "id": "_sO4zpjnpD2R"
      }
    },
    {
      "cell_type": "code",
      "source": [
        "import numpy as np\n",
        "\n",
        "arr = np.array([1, 5, 2, 9, 7, 3])\n",
        "\n",
        "# Hitung nilai rata-rata\n",
        "rata_rata = np.mean(arr)\n",
        "\n",
        "# Hitung nilai minimum\n",
        "nilai_min = np.min(arr)\n",
        "\n",
        "# Hitung nilai maksimum\n",
        "nilai_max = np.max(arr)\n",
        "\n",
        "# Tampilkan hasil\n",
        "print(\"Nilai rata-rata:\", rata_rata)\n",
        "print(\"Nilai minimum:\", nilai_min)\n",
        "print(\"Nilai maksimum:\", nilai_max)"
      ],
      "metadata": {
        "colab": {
          "base_uri": "https://localhost:8080/"
        },
        "id": "xehOL4tvpDkE",
        "outputId": "c738a9dc-519d-43c6-8a41-e0424c43bae9"
      },
      "execution_count": 9,
      "outputs": [
        {
          "output_type": "stream",
          "name": "stdout",
          "text": [
            "Nilai rata-rata: 4.5\n",
            "Nilai minimum: 1\n",
            "Nilai maksimum: 9\n"
          ]
        }
      ]
    },
    {
      "cell_type": "markdown",
      "source": [
        "# Final Projek"
      ],
      "metadata": {
        "id": "wAYu3cuvdUWu"
      }
    },
    {
      "cell_type": "code",
      "source": [
        "import numpy as np\n",
        "\n",
        "def input_data_siswa():\n",
        "  nama = input(\"Masukkan nama siswa: \")\n",
        "  nim = input(\"Masukkan NIM siswa: \")\n",
        "  jurusan = input(\"Masukkan jurusan siswa: \")\n",
        "  nilai = float(input(\"Masukkan nilai siswa: \"))\n",
        "  return {\"nama\": nama, \"nim\": nim, \"jurusan\": jurusan, \"nilai\": nilai}\n",
        "\n",
        "def tampilkan_data_siswa(data_siswa):\n",
        "  if not data_siswa:\n",
        "    print(\"Belum ada data siswa yang dimasukkan.\")\n",
        "    return\n",
        "  for siswa in data_siswa:\n",
        "    print(f\"Nama: {siswa['nama']}, NIM: {siswa['nim']}, Jurusan: {siswa['jurusan']}, Nilai: {siswa['nilai']}\")\n",
        "\n",
        "def cari_siswa(data_siswa, nim):\n",
        "  for siswa in data_siswa:\n",
        "    if siswa[\"nim\"] == nim:\n",
        "      print(f\"Nama: {siswa['nama']}, NIM: {siswa['nim']}, Jurusan: {siswa['jurusan']}, Nilai: {siswa['nilai']}\")\n",
        "      return\n",
        "  print(\"Siswa tidak ditemukan.\")\n",
        "\n",
        "def hitung_rata_rata_nilai(data_siswa):\n",
        "  if not data_siswa:\n",
        "    print(\"Belum ada data siswa yang dimasukkan.\")\n",
        "    return 0\n",
        "  total_nilai = sum(siswa['nilai'] for siswa in data_siswa)\n",
        "  return total_nilai / len(data_siswa)\n",
        "\n",
        "data_siswa = []\n",
        "\n",
        "while True:\n",
        "  print(\"\\nMenu:\")\n",
        "  print(\"1. Tambah data siswa\")\n",
        "  print(\"2. Tampilkan semua data siswa\")\n",
        "  print(\"3. Cari siswa berdasarkan NIM\")\n",
        "  print(\"4. Hitung rata-rata nilai\")\n",
        "  print(\"5. Keluar\")\n",
        "\n",
        "  pilihan = input(\"Masukkan pilihan Anda: \")\n",
        "\n",
        "  if pilihan == \"1\":\n",
        "    data_siswa.append(input_data_siswa())\n",
        "  elif pilihan == \"2\":\n",
        "    tampilkan_data_siswa(data_siswa)\n",
        "  elif pilihan == \"3\":\n",
        "    nim = input(\"Masukkan NIM siswa yang dicari: \")\n",
        "    cari_siswa(data_siswa, nim)\n",
        "  elif pilihan == \"4\":\n",
        "    rata_rata = hitung_rata_rata_nilai(data_siswa)\n",
        "    if rata_rata != 0:\n",
        "        print(f\"Rata-rata nilai siswa: {rata_rata}\")\n",
        "  elif pilihan == \"5\":\n",
        "    break\n",
        "  else:\n",
        "    print(\"Pilihan tidak valid.\")"
      ],
      "metadata": {
        "colab": {
          "base_uri": "https://localhost:8080/"
        },
        "id": "dHhZhLM5uAnY",
        "outputId": "bf3daadf-0205-4ead-f34b-02bcd49aa983"
      },
      "execution_count": 10,
      "outputs": [
        {
          "name": "stdout",
          "output_type": "stream",
          "text": [
            "\n",
            "Menu:\n",
            "1. Tambah data siswa\n",
            "2. Tampilkan semua data siswa\n",
            "3. Cari siswa berdasarkan NIM\n",
            "4. Hitung rata-rata nilai\n",
            "5. Keluar\n",
            "Masukkan pilihan Anda: roni\n",
            "Pilihan tidak valid.\n",
            "\n",
            "Menu:\n",
            "1. Tambah data siswa\n",
            "2. Tampilkan semua data siswa\n",
            "3. Cari siswa berdasarkan NIM\n",
            "4. Hitung rata-rata nilai\n",
            "5. Keluar\n",
            "Masukkan pilihan Anda: Roni Kurnia\n",
            "Pilihan tidak valid.\n",
            "\n",
            "Menu:\n",
            "1. Tambah data siswa\n",
            "2. Tampilkan semua data siswa\n",
            "3. Cari siswa berdasarkan NIM\n",
            "4. Hitung rata-rata nilai\n",
            "5. Keluar\n",
            "Masukkan pilihan Anda: 1\n",
            "Masukkan nama siswa: Roni\n",
            "Masukkan NIM siswa: 1234567890\n",
            "Masukkan jurusan siswa: teknik\n",
            "Masukkan nilai siswa: 100\n",
            "\n",
            "Menu:\n",
            "1. Tambah data siswa\n",
            "2. Tampilkan semua data siswa\n",
            "3. Cari siswa berdasarkan NIM\n",
            "4. Hitung rata-rata nilai\n",
            "5. Keluar\n",
            "Masukkan pilihan Anda: 1\n",
            "Masukkan nama siswa: rehan\n",
            "Masukkan NIM siswa: 1234567890\n",
            "Masukkan jurusan siswa: teknik\n",
            "Masukkan nilai siswa: 90\n",
            "\n",
            "Menu:\n",
            "1. Tambah data siswa\n",
            "2. Tampilkan semua data siswa\n",
            "3. Cari siswa berdasarkan NIM\n",
            "4. Hitung rata-rata nilai\n",
            "5. Keluar\n",
            "Masukkan pilihan Anda: rusdi\n",
            "Pilihan tidak valid.\n",
            "\n",
            "Menu:\n",
            "1. Tambah data siswa\n",
            "2. Tampilkan semua data siswa\n",
            "3. Cari siswa berdasarkan NIM\n",
            "4. Hitung rata-rata nilai\n",
            "5. Keluar\n",
            "Masukkan pilihan Anda: 1\n",
            "Masukkan nama siswa: rehan\n",
            "Masukkan NIM siswa: 1234567\n",
            "Masukkan jurusan siswa: teknik\n",
            "Masukkan nilai siswa: 40\n",
            "\n",
            "Menu:\n",
            "1. Tambah data siswa\n",
            "2. Tampilkan semua data siswa\n",
            "3. Cari siswa berdasarkan NIM\n",
            "4. Hitung rata-rata nilai\n",
            "5. Keluar\n",
            "Masukkan pilihan Anda: 2\n",
            "Nama: Roni, NIM: 1234567890, Jurusan: teknik, Nilai: 100.0\n",
            "Nama: rehan, NIM: 1234567890, Jurusan: teknik, Nilai: 90.0\n",
            "Nama: rehan, NIM: 1234567, Jurusan: teknik, Nilai: 40.0\n",
            "\n",
            "Menu:\n",
            "1. Tambah data siswa\n",
            "2. Tampilkan semua data siswa\n",
            "3. Cari siswa berdasarkan NIM\n",
            "4. Hitung rata-rata nilai\n",
            "5. Keluar\n",
            "Masukkan pilihan Anda: 3\n",
            "Masukkan NIM siswa yang dicari: 1234567\n",
            "Nama: rehan, NIM: 1234567, Jurusan: teknik, Nilai: 40.0\n",
            "\n",
            "Menu:\n",
            "1. Tambah data siswa\n",
            "2. Tampilkan semua data siswa\n",
            "3. Cari siswa berdasarkan NIM\n",
            "4. Hitung rata-rata nilai\n",
            "5. Keluar\n",
            "Masukkan pilihan Anda: 4\n",
            "Rata-rata nilai siswa: 76.66666666666667\n",
            "\n",
            "Menu:\n",
            "1. Tambah data siswa\n",
            "2. Tampilkan semua data siswa\n",
            "3. Cari siswa berdasarkan NIM\n",
            "4. Hitung rata-rata nilai\n",
            "5. Keluar\n",
            "Masukkan pilihan Anda: 5\n"
          ]
        }
      ]
    }
  ]
}