{
  "nbformat": 4,
  "nbformat_minor": 0,
  "metadata": {
    "colab": {
      "provenance": [],
      "authorship_tag": "ABX9TyOsGStxYtXFlaI/u1OMbiQG",
      "include_colab_link": true
    },
    "kernelspec": {
      "name": "python3",
      "display_name": "Python 3"
    },
    "language_info": {
      "name": "python"
    }
  },
  "cells": [
    {
      "cell_type": "markdown",
      "metadata": {
        "id": "view-in-github",
        "colab_type": "text"
      },
      "source": [
        "<a href=\"https://colab.research.google.com/github/Ronik-prog/ngobar-Python/blob/main/Roni.ipynb\" target=\"_parent\"><img src=\"https://colab.research.google.com/assets/colab-badge.svg\" alt=\"Open In Colab\"/></a>"
      ]
    },
    {
      "cell_type": "markdown",
      "source": [
        "Soal No 1\n",
        "\n",
        "Kalkulator Sederhana\n",
        "\n",
        "Buatlah program yang meminta pengguna untuk memasukkan dua angka dan operator aritmatika (+, -, *, /).\n",
        "Program kemudian menghitung hasil operasi berdasarkan input pengguna dan menampilkannya.\n",
        "Gunakan percabangan if-elif-else untuk menentukan operator yang digunakan"
      ],
      "metadata": {
        "id": "ItcO6Y7jTWst"
      }
    },
    {
      "cell_type": "code",
      "execution_count": null,
      "metadata": {
        "colab": {
          "base_uri": "https://localhost:8080/"
        },
        "id": "5DzAyHR-soLb",
        "outputId": "01d1347e-c9b7-4fea-a73e-8ae18545f607"
      },
      "outputs": [
        {
          "output_type": "stream",
          "name": "stdout",
          "text": [
            "Masukkan angka pertama: 345\n",
            "Masukkan angka kedua: 347\n",
            "Masukkan operator (+, -, *, /): *\n",
            "Hasil: 119715.0\n"
          ]
        }
      ],
      "source": [
        "def kalkulator_sederhana():\n",
        "  \"\"\"Fungsi untuk menghitung operasi aritmatika sederhana.\"\"\"\n",
        "\n",
        "  angka1 = float(input(\"Masukkan angka pertama: \"))\n",
        "  angka2 = float(input(\"Masukkan angka kedua: \"))\n",
        "  operator = input(\"Masukkan operator (+, -, *, /): \")\n",
        "\n",
        "  if operator == \"+\":\n",
        "    hasil = angka1 + angka2\n",
        "  elif operator == \"-\":\n",
        "    hasil = angka1 - angka2\n",
        "  elif operator == \"*\":\n",
        "    hasil = angka1 * angka2\n",
        "  elif operator == \"/\":\n",
        "    if angka2 == 0:\n",
        "      print(\"Tidak dapat membagi dengan nol.\")\n",
        "    else:\n",
        "      hasil = angka1 / angka2\n",
        "  else:\n",
        "    print(\"Operator tidak valid.\")\n",
        "\n",
        "  if \"hasil\" in locals():\n",
        "    print(\"Hasil:\", hasil)\n",
        "\n",
        "if get_ipython() is not None:\n",
        "    kalkulator_sederhana()\n",
        "else:\n",
        "    if __name__ == \"__main__\":\n",
        "        kalkulator_sederhana()"
      ]
    },
    {
      "cell_type": "markdown",
      "source": [],
      "metadata": {
        "id": "5-NJ9tdLTUo_"
      }
    },
    {
      "cell_type": "markdown",
      "source": [],
      "metadata": {
        "id": "Giqcys7jTm2N"
      }
    },
    {
      "cell_type": "code",
      "source": [
        "def deret_fibonacci(batas):\n",
        "  \"\"\"Fungsi untuk menampilkan deret Fibonacci hingga batas tertentu.\n",
        "\n",
        "  Args:\n",
        "    batas: Batas maksimal nilai dalam deret Fibonacci.\n",
        "  \"\"\"\n",
        "\n",
        "  a, b = 0, 1\n",
        "  print(a)\n",
        "  print(b)\n",
        "\n",
        "  while b < batas:\n",
        "    c = a + b\n",
        "    a = b\n",
        "    b = c\n",
        "    print(c)\n",
        "\n",
        "if __name__ == \"__main__\":\n",
        "  batas = int(input(\"Masukkan batas deret Fibonacci: \"))\n",
        "  deret_fibonacci(batas)"
      ],
      "metadata": {
        "colab": {
          "base_uri": "https://localhost:8080/"
        },
        "id": "ZSMTdtyItYDX",
        "outputId": "1bed2e95-9946-4038-8ec5-490265f4b306"
      },
      "execution_count": null,
      "outputs": [
        {
          "output_type": "stream",
          "name": "stdout",
          "text": [
            "Masukkan batas deret Fibonacci: 99\n",
            "0\n",
            "1\n",
            "1\n",
            "2\n",
            "3\n",
            "5\n",
            "8\n",
            "13\n",
            "21\n",
            "34\n",
            "55\n",
            "89\n",
            "144\n"
          ]
        }
      ]
    },
    {
      "cell_type": "code",
      "source": [
        "def cari_nilai_ekstrem():\n",
        "  \"\"\"Fungsi untuk mencari nilai maksimum dan minimum dalam sebuah list.\"\"\"\n",
        "\n",
        "  angka = []\n",
        "  while True:\n",
        "    input_str = input(\"Masukkan angka (ketik 'stop' untuk berhenti): \")\n",
        "    if input_str.lower() == 'stop':\n",
        "      break\n",
        "    try:\n",
        "      bilangan = int(input_str)\n",
        "      angka.append(bilangan)\n",
        "    except ValueError:\n",
        "      print(\"Input tidak valid. Harap masukkan angka atau 'stop'.\")\n",
        "\n",
        "  if angka:\n",
        "    nilai_maks = max(angka)\n",
        "    nilai_min = min(angka)\n",
        "    print(\"Nilai maksimum:\", nilai_maks)\n",
        "    print(\"Nilai minimum:\", nilai_min)\n",
        "  else:\n",
        "    print(\"List kosong. Tidak ada nilai untuk dicari.\")\n",
        "\n",
        "if __name__ == \"__main__\":\n",
        "  cari_nilai_ekstrem()"
      ],
      "metadata": {
        "colab": {
          "base_uri": "https://localhost:8080/"
        },
        "id": "y07zya4yxp-G",
        "outputId": "bce0d1bc-b884-426c-8354-e5ba9940f1cc"
      },
      "execution_count": null,
      "outputs": [
        {
          "output_type": "stream",
          "name": "stdout",
          "text": [
            "Masukkan angka (ketik 'stop' untuk berhenti): 100\n",
            "Masukkan angka (ketik 'stop' untuk berhenti): 200\n",
            "Masukkan angka (ketik 'stop' untuk berhenti): 300\n",
            "Masukkan angka (ketik 'stop' untuk berhenti): stop\n",
            "Nilai maksimum: 300\n",
            "Nilai minimum: 100\n"
          ]
        }
      ]
    }
  ]
}